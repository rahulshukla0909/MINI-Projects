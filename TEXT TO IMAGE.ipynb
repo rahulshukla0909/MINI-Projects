{
 "cells": [
  {
   "cell_type": "code",
   "execution_count": 3,
   "id": "974a1900",
   "metadata": {},
   "outputs": [
    {
     "data": {
      "image/png": "[encoded data removed]",
      "text/plain": [
       "<Figure size 432x288 with 1 Axes>"
      ]
     },
     "metadata": {
      "needs_background": "light"
     },
     "output_type": "display_data"
    }
   ],
   "source": [
    "import cv2\n",
    "import numpy as np\n",
    "import matplotlib.pyplot as plt\n",
    "\n",
    "# Create an empty image with white background\n",
    "img = np.ones((300, 600, 3), dtype=np.uint8) * 255\n",
    "\n",
    "# Set the font, scale, and color\n",
    "font = cv2.FONT_HERSHEY_SIMPLEX\n",
    "scale = 1\n",
    "color = (0, 0, 0)\n",
    "\n",
    "# Add the text to the image\n",
    "text = 'RAHUL SHUKLA !'\n",
    "textsize = cv2.getTextSize(text, font, scale, 2)[0]\n",
    "x = int((img.shape[1] - textsize[0]) / 2)\n",
    "y = int((img.shape[0] + textsize[1]) / 2)\n",
    "cv2.putText(img, text, (x, y), font, scale, color, 2)\n",
    "\n",
    "# Save the image using matplotlib\n",
    "plt.imshow(img)\n",
    "plt.axis('off')\n",
    "plt.savefig('image.png')"
   ]
  },
  {
   "cell_type": "code",
   "execution_count": null,
   "id": "79695c25",
   "metadata": {},
   "outputs": [],
   "source": []
  }
 ],
 "metadata": {
  "kernelspec": {
   "display_name": "Python 3",
   "language": "python",
   "name": "python3"
  },
  "language_info": {
   "codemirror_mode": {
    "name": "ipython",
    "version": 3
   },
   "file_extension": ".py",
   "mimetype": "text/x-python",
   "name": "python",
   "nbconvert_exporter": "python",
   "pygments_lexer": "ipython3",
   "version": "3.8.8"
  }
 },
 "nbformat": 4,
 "nbformat_minor": 5
}
