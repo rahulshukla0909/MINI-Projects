{
 "cells": [
  {
   "cell_type": "code",
   "execution_count": 2,
   "id": "7e1f72d9",
   "metadata": {},
   "outputs": [],
   "source": [
    "import numpy as np\n",
    "import pandas as pd"
   ]
  },
  {
   "cell_type": "code",
   "execution_count": 4,
   "id": "4bbd67ab",
   "metadata": {},
   "outputs": [],
   "source": [
    "a= pd.read_csv(r\"C:\\Users\\8902\\Desktop\\git repos\\GOOG.csv\")"
   ]
  },
  {
   "cell_type": "code",
   "execution_count": 5,
   "id": "baeafb7d",
   "metadata": {},
   "outputs": [
    {
     "name": "stdout",
     "output_type": "stream",
     "text": [
      "            Date        Open        High         Low       Close   Adj Close  \\\n",
      "0     2004-08-19   49.676899   51.693783   47.669952   49.845802   49.845802   \n",
      "1     2004-08-20   50.178635   54.187561   49.925285   53.805050   53.805050   \n",
      "2     2004-08-23   55.017166   56.373344   54.172661   54.346527   54.346527   \n",
      "3     2004-08-24   55.260582   55.439419   51.450363   52.096165   52.096165   \n",
      "4     2004-08-25   52.140873   53.651051   51.604362   52.657513   52.657513   \n",
      "...          ...         ...         ...         ...         ...         ...   \n",
      "3308  2017-10-09  980.000000  985.424988  976.109985  977.000000  977.000000   \n",
      "3309  2017-10-10  980.000000  981.570007  966.080017  972.599976  972.599976   \n",
      "3310  2017-10-11  973.719971  990.710022  972.250000  989.250000  989.250000   \n",
      "3311  2017-10-12  987.450012  994.119995  985.000000  987.830017  987.830017   \n",
      "3312  2017-10-13  992.000000  997.210022  989.000000  989.679993  989.679993   \n",
      "\n",
      "        Volume  \n",
      "0     44994500  \n",
      "1     23005800  \n",
      "2     18393200  \n",
      "3     15361800  \n",
      "4      9257400  \n",
      "...        ...  \n",
      "3308    891400  \n",
      "3309    968400  \n",
      "3310   1693300  \n",
      "3311   1262400  \n",
      "3312   1157700  \n",
      "\n",
      "[3313 rows x 7 columns]\n"
     ]
    }
   ],
   "source": [
    "print(a)"
   ]
  },
  {
   "cell_type": "code",
   "execution_count": 6,
   "id": "4a143e23",
   "metadata": {},
   "outputs": [],
   "source": [
    "dates = np.array(a['Date'])"
   ]
  },
  {
   "cell_type": "code",
   "execution_count": 8,
   "id": "0780e32d",
   "metadata": {},
   "outputs": [
    {
     "name": "stdout",
     "output_type": "stream",
     "text": [
      "['2004-08-19' '2004-08-20' '2004-08-23' ... '2017-10-11' '2017-10-12'\n",
      " '2017-10-13']\n"
     ]
    }
   ],
   "source": [
    "print(dates)"
   ]
  },
  {
   "cell_type": "code",
   "execution_count": null,
   "id": "81c5624b",
   "metadata": {},
   "outputs": [],
   "source": [
    "dates = np.array(a['Date'])"
   ]
  }
 ],
 "metadata": {
  "kernelspec": {
   "display_name": "Python 3",
   "language": "python",
   "name": "python3"
  },
  "language_info": {
   "codemirror_mode": {
    "name": "ipython",
    "version": 3
   },
   "file_extension": ".py",
   "mimetype": "text/x-python",
   "name": "python",
   "nbconvert_exporter": "python",
   "pygments_lexer": "ipython3",
   "version": "3.8.8"
  }
 },
 "nbformat": 4,
 "nbformat_minor": 5
}
